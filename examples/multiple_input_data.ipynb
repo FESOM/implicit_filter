{
 "cells": [
  {
   "cell_type": "code",
   "execution_count": 1,
   "id": "initial_id",
   "metadata": {
    "ExecuteTime": {
     "end_time": "2023-11-09T10:40:26.252745Z",
     "start_time": "2023-11-09T10:40:26.248160Z"
    },
    "tags": []
   },
   "outputs": [],
   "source": [
    "import os\n",
    "os.chdir(\"..\")"
   ]
  },
  {
   "cell_type": "code",
   "execution_count": 2,
   "id": "db8742c9e83e3319",
   "metadata": {
    "ExecuteTime": {
     "end_time": "2023-11-09T10:40:26.941198Z",
     "start_time": "2023-11-09T10:40:26.519957Z"
    },
    "collapsed": false,
    "jupyter": {
     "outputs_hidden": false
    },
    "tags": []
   },
   "outputs": [],
   "source": [
    "from implicit_filter import CuPyFilter, convert_to_wavenumbers, make_tri\n",
    "import math\n",
    "import numpy as np"
   ]
  },
  {
   "cell_type": "markdown",
   "id": "65a3936a17321502",
   "metadata": {},
   "source": [
    "# Create mesh\n",
    "---"
   ]
  },
  {
   "cell_type": "markdown",
   "id": "c01abb1b5effd33d",
   "metadata": {},
   "source": [
    "### Define mesh parameters"
   ]
  },
  {
   "cell_type": "code",
   "execution_count": 3,
   "id": "9f485c34d35ed6c6",
   "metadata": {
    "ExecuteTime": {
     "end_time": "2023-11-09T10:40:27.158203Z",
     "start_time": "2023-11-09T10:40:27.153182Z"
    },
    "collapsed": false,
    "jupyter": {
     "outputs_hidden": false
    },
    "tags": []
   },
   "outputs": [],
   "source": [
    "# ============\n",
    "# Mesh size:\n",
    "# ============\n",
    "Lx = 2000\n",
    "Ly = Lx\n",
    "# ===========\n",
    "# Cell size and x,y vectors\n",
    "# ===========\n",
    "dxm = 1\n",
    "dym = dxm\n",
    "cyclic = 0  # 1 if mesh is cyclic\n",
    "cyclic_length = 360  # in degrees; if not cyclic, take it larger than  zonal size\n",
    "cyclic_length = cyclic_length * math.pi / 180  # DO NOT TOUCH\n",
    "meshtype = 'm'  # coordinates can be in physical measure 'm' or in radians 'r'\n",
    "cartesian = False\n",
    "r_earth = 6400"
   ]
  },
  {
   "cell_type": "markdown",
   "id": "edc201d07c5e7bc5",
   "metadata": {},
   "source": [
    "### Create mesh"
   ]
  },
  {
   "cell_type": "code",
   "execution_count": 4,
   "id": "194df61ea02ffd45",
   "metadata": {
    "ExecuteTime": {
     "end_time": "2023-11-09T10:40:27.674680Z",
     "start_time": "2023-11-09T10:40:27.660996Z"
    },
    "collapsed": false,
    "jupyter": {
     "outputs_hidden": false
    },
    "tags": []
   },
   "outputs": [],
   "source": [
    "xx = np.arange(0, Lx + 1, dxm)\n",
    "yy = np.arange(0, Ly + 1, dym)\n",
    "\n",
    "nx = len(xx)\n",
    "ny = len(yy)\n",
    "# =============\n",
    "# 2D regular array of points,\n",
    "# their x and y coordinates.\n",
    "# We will create triangles later\n",
    "# =============\n",
    "\n",
    "nodnum = np.arange(0, nx * ny)\n",
    "xcoord = np.zeros((ny, nx))\n",
    "ycoord = xcoord.copy()\n",
    "\n",
    "for i in range(nx):\n",
    "    ycoord[i, :] = yy\n",
    "\n",
    "for i in range(ny):\n",
    "    xcoord[:, i] = xx"
   ]
  },
  {
   "cell_type": "markdown",
   "id": "2cd0e934b381c889",
   "metadata": {},
   "source": [
    "### Create sythetic data\n",
    "\n",
    "This process is executed asynchronously to create multiple input data"
   ]
  },
  {
   "cell_type": "code",
   "execution_count": 5,
   "id": "3b5e02d47b1c502b",
   "metadata": {
    "ExecuteTime": {
     "end_time": "2023-11-09T10:40:56.326366Z",
     "start_time": "2023-11-09T10:40:28.042361Z"
    },
    "collapsed": false,
    "jupyter": {
     "outputs_hidden": false
    },
    "tags": []
   },
   "outputs": [],
   "source": [
    "def make_data():\n",
    "    tt = 50 * (np.random.random(xcoord.shape) - 0.5)\n",
    "    ttf = np.fft.fft2(tt)\n",
    "    # ============\n",
    "    # Make spectrum red\n",
    "    # ============\n",
    "    espectrum = np.zeros((nx // 2 + 1))  # Place for Fourier spectrum\n",
    "    kk = np.concatenate((np.arange(0, nx // 2 + 1), np.arange(-nx // 2 + 1, 0, 1)))  # Wavenumbers\n",
    "    \n",
    "    for mx in range(nx):\n",
    "        for my in range(ny):\n",
    "            ll = np.sqrt(kk[my] * kk[my] + kk[mx] * kk[mx])  # Absolute value\n",
    "            if my == 0 and mx == 0:  # Remove area mean\n",
    "                ttf[my, mx] = 0.0\n",
    "            else:  # Adjust amplitudes\n",
    "                tmp = ttf[my, mx] / (np.power(ll, 1.5))  # 1.5 for -2 spectrum\n",
    "                ttf[my, mx] = tmp\n",
    "            if ll + 1 <= nx // 2 + 1:\n",
    "                espectrum[np.floor(ll).astype(int)] += ttf[my, mx] * np.conj(ttf[my, mx])\n",
    "    \n",
    "    espectrum = espectrum / np.power(nx, 4)\n",
    "    tt = np.real(np.fft.ifft2(ttf))\n",
    "    tt = np.reshape(tt, [nx * ny])\n",
    "    return tt # We expect that it will show - 2 spectrum"
   ]
  },
  {
   "cell_type": "code",
   "execution_count": 6,
   "id": "345f23ca-e1bb-435e-83df-ff32ab5eb5f3",
   "metadata": {
    "tags": []
   },
   "outputs": [
    {
     "name": "stdout",
     "output_type": "stream",
     "text": [
      "CPU times: user 280 ms, sys: 1.49 s, total: 1.77 s\n",
      "Wall time: 29.3 s\n"
     ]
    }
   ],
   "source": [
    "%%time\n",
    "\n",
    "import concurrent\n",
    "import warnings\n",
    "warnings.filterwarnings('ignore')\n",
    "\n",
    "futures = []\n",
    "with concurrent.futures.ProcessPoolExecutor() as executor:\n",
    "    \n",
    "    for i in range(40):\n",
    "        futures.append(executor.submit(make_data))\n",
    "    \n",
    "    executor.shutdown(wait=True)"
   ]
  },
  {
   "cell_type": "code",
   "execution_count": 7,
   "id": "7d95134c-c44b-43a0-acbf-5d9e0a0b2469",
   "metadata": {
    "tags": []
   },
   "outputs": [],
   "source": [
    "data = []\n",
    "for f in futures:\n",
    "    data.append(f.result())"
   ]
  },
  {
   "cell_type": "markdown",
   "id": "48e8154c008a7c3b",
   "metadata": {},
   "source": [
    "### Reshape arrays and load_from_fileate triangulation"
   ]
  },
  {
   "cell_type": "code",
   "execution_count": 8,
   "id": "abef3ace2444b28c",
   "metadata": {
    "ExecuteTime": {
     "end_time": "2023-11-09T10:40:56.329320Z",
     "start_time": "2023-11-09T10:40:56.327136Z"
    },
    "collapsed": false,
    "jupyter": {
     "outputs_hidden": false
    },
    "tags": []
   },
   "outputs": [],
   "source": [
    "nodnum = np.reshape(nodnum, [ny, nx]).T\n",
    "xcoord = np.reshape(xcoord, [nx * ny])\n",
    "ycoord = np.reshape(ycoord, [nx * ny])"
   ]
  },
  {
   "cell_type": "code",
   "execution_count": 9,
   "id": "a2f45c6a3258a007",
   "metadata": {
    "ExecuteTime": {
     "end_time": "2023-11-09T10:40:57.159621Z",
     "start_time": "2023-11-09T10:40:56.329722Z"
    },
    "collapsed": false,
    "jupyter": {
     "outputs_hidden": false
    },
    "tags": []
   },
   "outputs": [],
   "source": [
    "tri = make_tri(nodnum, nx, ny)\n",
    "n2d = len(xcoord)  # The number of vertices(nodes)\n",
    "e2d = len(tri[:, 1])"
   ]
  },
  {
   "cell_type": "markdown",
   "id": "bd91fb378f2d0afc",
   "metadata": {},
   "source": [
    "# Filtering\n",
    "---"
   ]
  },
  {
   "cell_type": "markdown",
   "id": "d7034e004ddd157f",
   "metadata": {},
   "source": [
    "### Define wavelength"
   ]
  },
  {
   "cell_type": "markdown",
   "id": "f1d7a57050808618",
   "metadata": {},
   "source": [
    "Using build-in function to get wavenumber corresponding to 100 km filter"
   ]
  },
  {
   "cell_type": "code",
   "execution_count": 10,
   "id": "10ca3789cc81c234",
   "metadata": {
    "ExecuteTime": {
     "end_time": "2023-11-09T10:40:57.162260Z",
     "start_time": "2023-11-09T10:40:57.160354Z"
    },
    "collapsed": false,
    "jupyter": {
     "outputs_hidden": false
    },
    "tags": []
   },
   "outputs": [],
   "source": [
    "Kc = convert_to_wavenumbers(500, dxm)"
   ]
  },
  {
   "cell_type": "code",
   "execution_count": 11,
   "id": "7a9806588721ca98",
   "metadata": {
    "ExecuteTime": {
     "end_time": "2023-11-09T10:41:16.028355Z",
     "start_time": "2023-11-09T10:40:57.162830Z"
    },
    "collapsed": false,
    "jupyter": {
     "outputs_hidden": false
    },
    "tags": []
   },
   "outputs": [
    {
     "name": "stderr",
     "output_type": "stream",
     "text": [
      "No GPU/TPU found, falling back to CPU. (Set TF_CPP_MIN_LOG_LEVEL=0 and rerun for more info.)\n"
     ]
    },
    {
     "name": "stdout",
     "output_type": "stream",
     "text": [
      "CPU times: user 385 ms, sys: 321 ms, total: 706 ms\n",
      "Wall time: 710 ms\n"
     ]
    }
   ],
   "source": [
    "%%time\n",
    "jf = CuPyFilter.load_from_file(\"tmp.npz\")"
   ]
  },
  {
   "cell_type": "code",
   "execution_count": 14,
   "id": "463b457d-ee96-49aa-89fe-1ca81734cbe1",
   "metadata": {
    "tags": []
   },
   "outputs": [],
   "source": [
    "jf.save_to_file(\"tmp\")"
   ]
  },
  {
   "cell_type": "markdown",
   "id": "372f7637a16eff0a",
   "metadata": {},
   "source": [
    "Comparing simple for-loop based implementation with optimized method"
   ]
  },
  {
   "cell_type": "code",
   "execution_count": 16,
   "id": "159af74e9e058fa7",
   "metadata": {
    "collapsed": false,
    "jupyter": {
     "outputs_hidden": false
    },
    "tags": []
   },
   "outputs": [
    {
     "name": "stdout",
     "output_type": "stream",
     "text": [
      "CPU times: user 1min 33s, sys: 57 ms, total: 1min 33s\n",
      "Wall time: 1min 34s\n"
     ]
    }
   ],
   "source": [
    "%%time\n",
    "\n",
    "output = []\n",
    "for tt, i in zip(data, range(len(data))):\n",
    "        tts = jf.compute(1, Kc, tt)\n",
    "        output.append(tts)"
   ]
  },
  {
   "cell_type": "code",
   "execution_count": 12,
   "id": "8ec0a665216407f5",
   "metadata": {
    "ExecuteTime": {
     "end_time": "2023-11-09T10:42:33.693296Z",
     "start_time": "2023-11-09T10:41:16.030365Z"
    },
    "collapsed": false,
    "jupyter": {
     "outputs_hidden": false
    },
    "tags": []
   },
   "outputs": [
    {
     "name": "stdout",
     "output_type": "stream",
     "text": [
      "CPU times: user 1min 21s, sys: 16.7 s, total: 1min 37s\n",
      "Wall time: 1min 5s\n"
     ]
    }
   ],
   "source": [
    "%%time\n",
    "output = jf.many_compute(1, Kc, data)"
   ]
  },
  {
   "cell_type": "code",
   "execution_count": 13,
   "id": "e27706a822c7da52",
   "metadata": {
    "ExecuteTime": {
     "end_time": "2023-11-09T10:46:49.935193Z",
     "start_time": "2023-11-09T10:46:49.721090Z"
    },
    "collapsed": false,
    "jupyter": {
     "outputs_hidden": false
    },
    "tags": []
   },
   "outputs": [],
   "source": [
    "import matplotlib.pyplot as plt\n",
    "import matplotlib as mpl"
   ]
  },
  {
   "cell_type": "code",
   "execution_count": 14,
   "id": "b5c90bc9e9fb35a4",
   "metadata": {
    "ExecuteTime": {
     "end_time": "2023-11-09T10:46:52.642593Z",
     "start_time": "2023-11-09T10:46:52.594116Z"
    },
    "collapsed": false,
    "jupyter": {
     "outputs_hidden": false
    },
    "tags": []
   },
   "outputs": [],
   "source": [
    "triang = mpl.tri.Triangulation(xcoord, ycoord, tri)"
   ]
  },
  {
   "cell_type": "code",
   "execution_count": 15,
   "id": "60a28797758c0890",
   "metadata": {
    "ExecuteTime": {
     "end_time": "2023-11-09T10:47:16.902231Z",
     "start_time": "2023-11-09T10:47:09.788915Z"
    },
    "collapsed": false,
    "jupyter": {
     "outputs_hidden": false
    },
    "tags": []
   },
   "outputs": [
    {
     "data": {
      "text/plain": [
       "<matplotlib.colorbar.Colorbar at 0x7fdda4be1dd0>"
      ]
     },
     "execution_count": 15,
     "metadata": {},
     "output_type": "execute_result"
    },
    {
     "data": {
      "image/png": "[encoded data removed]",
      "text/plain": [
       "<Figure size 640x480 with 2 Axes>"
      ]
     },
     "metadata": {},
     "output_type": "display_data"
    }
   ],
   "source": [
    "plt.tripcolor(triang, output[-2])\n",
    "plt.colorbar()"
   ]
  },
  {
   "cell_type": "code",
   "execution_count": null,
   "id": "6db9314d-50c0-49aa-92f9-6543822f384e",
   "metadata": {},
   "outputs": [],
   "source": []
  }
 ],
 "metadata": {
  "kernelspec": {
   "display_name": "My Kernel",
   "language": "python",
   "name": "my-kernel"
  },
  "language_info": {
   "codemirror_mode": {
    "name": "ipython",
    "version": 3
   },
   "file_extension": ".py",
   "mimetype": "text/x-python",
   "name": "python",
   "nbconvert_exporter": "python",
   "pygments_lexer": "ipython3",
   "version": "3.11.4"
  }
 },
 "nbformat": 4,
 "nbformat_minor": 5
}
